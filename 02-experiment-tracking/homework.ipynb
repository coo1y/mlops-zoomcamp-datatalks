{
 "cells": [
  {
   "cell_type": "markdown",
   "metadata": {},
   "source": [
    "# Homework"
   ]
  },
  {
   "cell_type": "markdown",
   "metadata": {},
   "source": [
    "## Q1. Install MLflow"
   ]
  },
  {
   "cell_type": "code",
   "execution_count": 1,
   "metadata": {},
   "outputs": [
    {
     "name": "stdout",
     "output_type": "stream",
     "text": [
      "mlflow, version 2.22.0\n"
     ]
    }
   ],
   "source": [
    "!mlflow --version"
   ]
  },
  {
   "cell_type": "markdown",
   "metadata": {},
   "source": [
    "Answer: **2.22.0**"
   ]
  },
  {
   "cell_type": "markdown",
   "metadata": {},
   "source": [
    "## Q2. Download and preprocess the data"
   ]
  },
  {
   "cell_type": "markdown",
   "metadata": {},
   "source": [
    "1. Download the datasets"
   ]
  },
  {
   "cell_type": "code",
   "execution_count": 3,
   "metadata": {},
   "outputs": [
    {
     "name": "stdout",
     "output_type": "stream",
     "text": [
      "--2025-05-22 00:47:51--  https://d37ci6vzurychx.cloudfront.net/trip-data/green_tripdata_2023-01.parquet\n",
      "Resolving d37ci6vzurychx.cloudfront.net (d37ci6vzurychx.cloudfront.net)... 2600:9000:2795:8e00:b:20a5:b140:21, 2600:9000:2795:7000:b:20a5:b140:21, 2600:9000:2795:b200:b:20a5:b140:21, ...\n",
      "Connecting to d37ci6vzurychx.cloudfront.net (d37ci6vzurychx.cloudfront.net)|2600:9000:2795:8e00:b:20a5:b140:21|:443... connected.\n",
      "HTTP request sent, awaiting response... 200 OK\n",
      "Length: 1427002 (1.4M) [binary/octet-stream]\n",
      "Saving to: ‘./dataset/green_tripdata_2023-01.parquet’\n",
      "\n",
      "green_tripdata_2023 100%[===================>]   1.36M  1.30MB/s    in 1.0s    \n",
      "\n",
      "2025-05-22 00:47:53 (1.30 MB/s) - ‘./dataset/green_tripdata_2023-01.parquet’ saved [1427002/1427002]\n",
      "\n",
      "--2025-05-22 00:47:53--  https://d37ci6vzurychx.cloudfront.net/trip-data/green_tripdata_2023-02.parquet\n",
      "Resolving d37ci6vzurychx.cloudfront.net (d37ci6vzurychx.cloudfront.net)... 2600:9000:2795:6a00:b:20a5:b140:21, 2600:9000:2795:7000:b:20a5:b140:21, 2600:9000:2795:800:b:20a5:b140:21, ...\n",
      "Connecting to d37ci6vzurychx.cloudfront.net (d37ci6vzurychx.cloudfront.net)|2600:9000:2795:6a00:b:20a5:b140:21|:443... connected.\n",
      "HTTP request sent, awaiting response... 200 OK\n",
      "Length: 1533740 (1.5M) [binary/octet-stream]\n",
      "Saving to: ‘./dataset/green_tripdata_2023-02.parquet’\n",
      "\n",
      "green_tripdata_2023 100%[===================>]   1.46M  1.41MB/s    in 1.0s    \n",
      "\n",
      "2025-05-22 00:47:55 (1.41 MB/s) - ‘./dataset/green_tripdata_2023-02.parquet’ saved [1533740/1533740]\n",
      "\n",
      "--2025-05-22 00:47:55--  https://d37ci6vzurychx.cloudfront.net/trip-data/green_tripdata_2023-03.parquet\n",
      "Resolving d37ci6vzurychx.cloudfront.net (d37ci6vzurychx.cloudfront.net)... 2600:9000:2795:b200:b:20a5:b140:21, 2600:9000:2795:7000:b:20a5:b140:21, 2600:9000:2795:800:b:20a5:b140:21, ...\n",
      "Connecting to d37ci6vzurychx.cloudfront.net (d37ci6vzurychx.cloudfront.net)|2600:9000:2795:b200:b:20a5:b140:21|:443... connected.\n",
      "HTTP request sent, awaiting response... 200 OK\n",
      "Length: 1730999 (1.7M) [binary/octet-stream]\n",
      "Saving to: ‘./dataset/green_tripdata_2023-03.parquet’\n",
      "\n",
      "green_tripdata_2023 100%[===================>]   1.65M  1.53MB/s    in 1.1s    \n",
      "\n",
      "2025-05-22 00:47:57 (1.53 MB/s) - ‘./dataset/green_tripdata_2023-03.parquet’ saved [1730999/1730999]\n",
      "\n"
     ]
    }
   ],
   "source": [
    "!wget https://d37ci6vzurychx.cloudfront.net/trip-data/green_tripdata_2023-01.parquet -P ./dataset\n",
    "!wget https://d37ci6vzurychx.cloudfront.net/trip-data/green_tripdata_2023-02.parquet -P ./dataset\n",
    "!wget https://d37ci6vzurychx.cloudfront.net/trip-data/green_tripdata_2023-03.parquet -P ./dataset"
   ]
  },
  {
   "cell_type": "markdown",
   "metadata": {},
   "source": [
    "2. Execute the command"
   ]
  },
  {
   "cell_type": "code",
   "execution_count": 4,
   "metadata": {},
   "outputs": [],
   "source": [
    "!python preprocess_data.py --raw_data_path ./dataset --dest_path ./output"
   ]
  },
  {
   "cell_type": "markdown",
   "metadata": {},
   "source": [
    "How many files were saved to `OUTPUT_FOLDER`?"
   ]
  },
  {
   "cell_type": "code",
   "execution_count": 5,
   "metadata": {},
   "outputs": [
    {
     "name": "stdout",
     "output_type": "stream",
     "text": [
      "dv.pkl    test.pkl  train.pkl val.pkl\n"
     ]
    }
   ],
   "source": [
    "!ls ./output"
   ]
  },
  {
   "cell_type": "markdown",
   "metadata": {},
   "source": [
    "Answer: **4 files**"
   ]
  },
  {
   "cell_type": "markdown",
   "metadata": {},
   "source": [
    "## Q3. Train a model with autolog"
   ]
  },
  {
   "cell_type": "markdown",
   "metadata": {},
   "source": [
    "1. Modify the `train.py` script to enable autologging"
   ]
  },
  {
   "cell_type": "code",
   "execution_count": null,
   "metadata": {},
   "outputs": [],
   "source": [
    "# Modified `train.py` to enable autologging in MLflow and use `with mlflow.start_run():` wrapper \n",
    "!cat train.py"
   ]
  },
  {
   "cell_type": "markdown",
   "metadata": {},
   "source": [
    "2. Execute the script"
   ]
  },
  {
   "cell_type": "code",
   "execution_count": 8,
   "metadata": {},
   "outputs": [
    {
     "name": "stdout",
     "output_type": "stream",
     "text": [
      "2025/05/22 01:07:12 INFO mlflow.tracking.fluent: Autologging successfully enabled for sklearn.\n",
      "2025/05/22 01:07:20 WARNING mlflow.utils.autologging_utils: Encountered unexpected error during sklearn autologging: When an mlflow-artifacts URI was supplied, the tracking URI must be a valid http or https URI, but it was currently set to file:///Users/nop/Documents/GitHub/mlops-zoomcamp-datatalks/02-experiment-tracking/mlruns. Perhaps you forgot to set the tracking URI to the running MLflow server. To set the tracking URI, use either of the following methods:\n",
      "1. Set the MLFLOW_TRACKING_URI environment variable to the desired tracking URI. `export MLFLOW_TRACKING_URI=http://localhost:5000`\n",
      "2. Set the tracking URI programmatically by calling `mlflow.set_tracking_uri`. `mlflow.set_tracking_uri('http://localhost:5000')`\n"
     ]
    }
   ],
   "source": [
    "!python train.py"
   ]
  },
  {
   "cell_type": "markdown",
   "metadata": {},
   "source": [
    "3. Check `min_sample_split`"
   ]
  },
  {
   "cell_type": "code",
   "execution_count": null,
   "metadata": {},
   "outputs": [],
   "source": [
    "from mlflow.tracking import MlflowClient\n",
    "\n",
    "client = MlflowClient()"
   ]
  },
  {
   "cell_type": "code",
   "execution_count": 12,
   "metadata": {},
   "outputs": [
    {
     "data": {
      "text/plain": [
       "[<Experiment: artifact_location='mlflow-artifacts:/0', creation_time=1747848584001, experiment_id='0', last_update_time=1747848584001, lifecycle_stage='active', name='Default', tags={}>]"
      ]
     },
     "execution_count": 12,
     "metadata": {},
     "output_type": "execute_result"
    }
   ],
   "source": [
    "client.search_experiments()"
   ]
  },
  {
   "cell_type": "code",
   "execution_count": 14,
   "metadata": {},
   "outputs": [
    {
     "data": {
      "text/plain": [
       "[<Run: data=<RunData: metrics={}, params={'bootstrap': 'True',\n",
       "  'ccp_alpha': '0.0',\n",
       "  'criterion': 'squared_error',\n",
       "  'max_depth': '10',\n",
       "  'max_features': '1.0',\n",
       "  'max_leaf_nodes': 'None',\n",
       "  'max_samples': 'None',\n",
       "  'min_impurity_decrease': '0.0',\n",
       "  'min_samples_leaf': '1',\n",
       "  'min_samples_split': '2',\n",
       "  'min_weight_fraction_leaf': '0.0',\n",
       "  'monotonic_cst': 'None',\n",
       "  'n_estimators': '100',\n",
       "  'n_jobs': 'None',\n",
       "  'oob_score': 'False',\n",
       "  'random_state': '0',\n",
       "  'verbose': '0',\n",
       "  'warm_start': 'False'}, tags={'estimator_class': 'sklearn.ensemble._forest.RandomForestRegressor',\n",
       "  'estimator_name': 'RandomForestRegressor',\n",
       "  'mlflow.runName': 'bustling-deer-805',\n",
       "  'mlflow.source.git.commit': '8694135104718c1a64b979de8a920ebd0223bafe',\n",
       "  'mlflow.source.name': 'train.py',\n",
       "  'mlflow.source.type': 'LOCAL',\n",
       "  'mlflow.user': 'nop'}>, info=<RunInfo: artifact_uri='mlflow-artifacts:/0/15102ccad1b049118b503017f8d93929/artifacts', end_time=1747850840629, experiment_id='0', lifecycle_stage='active', run_id='15102ccad1b049118b503017f8d93929', run_name='bustling-deer-805', run_uuid='15102ccad1b049118b503017f8d93929', start_time=1747850832809, status='FINISHED', user_id='nop'>, inputs=<RunInputs: dataset_inputs=[<DatasetInput: dataset=<Dataset: digest='acc5c667', name='dataset', profile=('{\"features_shape\": [65946, 5702], \"features_size\": 376024092, '\n",
       "  '\"features_nbytes\": 3008192736, \"targets_shape\": [65946], \"targets_size\": '\n",
       "  '65946, \"targets_nbytes\": 527568}'), schema=('{\"mlflow_tensorspec\": {\"features\": \"[{\\\\\"type\\\\\": \\\\\"tensor\\\\\", '\n",
       "  '\\\\\"tensor-spec\\\\\": {\\\\\"dtype\\\\\": \\\\\"float64\\\\\", \\\\\"shape\\\\\": [-1, 5702]}}]\", '\n",
       "  '\"targets\": \"[{\\\\\"type\\\\\": \\\\\"tensor\\\\\", \\\\\"tensor-spec\\\\\": {\\\\\"dtype\\\\\": '\n",
       "  '\\\\\"float64\\\\\", \\\\\"shape\\\\\": [-1]}}]\"}}'), source=('{\"tags\": {\"mlflow.user\": \"nop\", \"mlflow.source.name\": \"train.py\", '\n",
       "  '\"mlflow.source.type\": \"LOCAL\", \"mlflow.source.git.commit\": '\n",
       "  '\"8694135104718c1a64b979de8a920ebd0223bafe\"}}'), source_type='code'>, tags=[<InputTag: key='mlflow.data.context', value='train'>]>]>>,\n",
       " <Run: data=<RunData: metrics={}, params={'bootstrap': 'True',\n",
       "  'ccp_alpha': '0.0',\n",
       "  'criterion': 'squared_error',\n",
       "  'max_depth': '10',\n",
       "  'max_features': '1.0',\n",
       "  'max_leaf_nodes': 'None',\n",
       "  'max_samples': 'None',\n",
       "  'min_impurity_decrease': '0.0',\n",
       "  'min_samples_leaf': '1',\n",
       "  'min_samples_split': '2',\n",
       "  'min_weight_fraction_leaf': '0.0',\n",
       "  'monotonic_cst': 'None',\n",
       "  'n_estimators': '100',\n",
       "  'n_jobs': 'None',\n",
       "  'oob_score': 'False',\n",
       "  'random_state': '0',\n",
       "  'verbose': '0',\n",
       "  'warm_start': 'False'}, tags={'estimator_class': 'sklearn.ensemble._forest.RandomForestRegressor',\n",
       "  'estimator_name': 'RandomForestRegressor',\n",
       "  'mlflow.runName': 'luminous-asp-994',\n",
       "  'mlflow.source.git.commit': '8694135104718c1a64b979de8a920ebd0223bafe',\n",
       "  'mlflow.source.name': 'train.py',\n",
       "  'mlflow.source.type': 'LOCAL',\n",
       "  'mlflow.user': 'nop'}>, info=<RunInfo: artifact_uri='mlflow-artifacts:/0/28eba6d7f6f847eda099c3eb339e781a/artifacts', end_time=1747850732456, experiment_id='0', lifecycle_stage='active', run_id='28eba6d7f6f847eda099c3eb339e781a', run_name='luminous-asp-994', run_uuid='28eba6d7f6f847eda099c3eb339e781a', start_time=1747850724618, status='FAILED', user_id='nop'>, inputs=<RunInputs: dataset_inputs=[<DatasetInput: dataset=<Dataset: digest='acc5c667', name='dataset', profile=('{\"features_shape\": [65946, 5702], \"features_size\": 376024092, '\n",
       "  '\"features_nbytes\": 3008192736, \"targets_shape\": [65946], \"targets_size\": '\n",
       "  '65946, \"targets_nbytes\": 527568}'), schema=('{\"mlflow_tensorspec\": {\"features\": \"[{\\\\\"type\\\\\": \\\\\"tensor\\\\\", '\n",
       "  '\\\\\"tensor-spec\\\\\": {\\\\\"dtype\\\\\": \\\\\"float64\\\\\", \\\\\"shape\\\\\": [-1, 5702]}}]\", '\n",
       "  '\"targets\": \"[{\\\\\"type\\\\\": \\\\\"tensor\\\\\", \\\\\"tensor-spec\\\\\": {\\\\\"dtype\\\\\": '\n",
       "  '\\\\\"float64\\\\\", \\\\\"shape\\\\\": [-1]}}]\"}}'), source=('{\"tags\": {\"mlflow.user\": \"nop\", \"mlflow.source.name\": \"train.py\", '\n",
       "  '\"mlflow.source.type\": \"LOCAL\", \"mlflow.source.git.commit\": '\n",
       "  '\"8694135104718c1a64b979de8a920ebd0223bafe\"}}'), source_type='code'>, tags=[<InputTag: key='mlflow.data.context', value='train'>]>]>>]"
      ]
     },
     "execution_count": 14,
     "metadata": {},
     "output_type": "execute_result"
    }
   ],
   "source": [
    "client.search_runs(experiment_ids=\"0\")"
   ]
  },
  {
   "cell_type": "code",
   "execution_count": 16,
   "metadata": {},
   "outputs": [
    {
     "data": {
      "text/plain": [
       "{'bootstrap': 'True',\n",
       " 'max_depth': '10',\n",
       " 'max_samples': 'None',\n",
       " 'min_weight_fraction_leaf': '0.0',\n",
       " 'max_leaf_nodes': 'None',\n",
       " 'min_samples_leaf': '1',\n",
       " 'random_state': '0',\n",
       " 'min_impurity_decrease': '0.0',\n",
       " 'verbose': '0',\n",
       " 'n_estimators': '100',\n",
       " 'criterion': 'squared_error',\n",
       " 'oob_score': 'False',\n",
       " 'ccp_alpha': '0.0',\n",
       " 'warm_start': 'False',\n",
       " 'max_features': '1.0',\n",
       " 'monotonic_cst': 'None',\n",
       " 'n_jobs': 'None',\n",
       " 'min_samples_split': '2'}"
      ]
     },
     "execution_count": 16,
     "metadata": {},
     "output_type": "execute_result"
    }
   ],
   "source": [
    "RUN_ID = \"15102ccad1b049118b503017f8d93929\"\n",
    "\n",
    "run = client.get_run(run_id=RUN_ID)\n",
    "run.data.params"
   ]
  },
  {
   "cell_type": "markdown",
   "metadata": {},
   "source": [
    "Answer: `min_samples_split` is **2**"
   ]
  },
  {
   "cell_type": "markdown",
   "metadata": {},
   "source": [
    "## Q4. Launch the tracking server locally\n",
    "\n",
    "Your task is to\n",
    "\n",
    "* launch the tracking server on your local machine\n",
    "* select a SQLite db for the backend store and a folder called `artifacts` for the artifacts store\n",
    "\n",
    "You should keep the tracking server running to work on the next two exercises that use the server.\n",
    "\n",
    "In addition to `backend-store-uri`, what else do you need to pass to properly configure the server?\n",
    "\n",
    "* `default-artifact-root`\n",
    "* `serve-artifacts`\n",
    "* `artifacts-only`\n",
    "* `artifacts-destination`\n"
   ]
  },
  {
   "cell_type": "markdown",
   "metadata": {},
   "source": [
    "Answer: To configure MLflow to store artifacts on your local computer, use the **`--default-artifact-root`** option when starting the MLflow server."
   ]
  },
  {
   "cell_type": "markdown",
   "metadata": {},
   "source": [
    "## Q5. Tune the hyperparameters of the model"
   ]
  },
  {
   "cell_type": "markdown",
   "metadata": {},
   "source": [
    "1. Modify the script `hpo.py` and make sure that the validation RMSE is logged to the tracking server for each run of the hyperparameter optimization"
   ]
  },
  {
   "cell_type": "code",
   "execution_count": null,
   "metadata": {},
   "outputs": [],
   "source": [
    "!cat hpo.py"
   ]
  },
  {
   "cell_type": "markdown",
   "metadata": {},
   "source": [
    "2. Run the script without passing any parameters"
   ]
  },
  {
   "cell_type": "code",
   "execution_count": 20,
   "metadata": {},
   "outputs": [
    {
     "name": "stdout",
     "output_type": "stream",
     "text": [
      "2025/05/22 02:04:16 INFO mlflow.tracking.fluent: Experiment with name 'random-forest-hyperopt' does not exist. Creating a new experiment.\n",
      "🏃 View run aged-hare-553 at: http://127.0.0.1:5000/#/experiments/1/runs/e211097dd64c4fafbf069750c9d6aa88\n",
      "\n",
      "🧪 View experiment at: http://127.0.0.1:5000/#/experiments/1                    \n",
      "\n",
      "🏃 View run dapper-perch-176 at: http://127.0.0.1:5000/#/experiments/1/runs/9e20bcab90794c65bf682bfda9c7f8f9\n",
      "\n",
      "🧪 View experiment at: http://127.0.0.1:5000/#/experiments/1                    \n",
      "\n",
      "🏃 View run serious-hog-582 at: http://127.0.0.1:5000/#/experiments/1/runs/d5067c9ed4d34ca68eb9a2b020102687\n",
      "\n",
      "🧪 View experiment at: http://127.0.0.1:5000/#/experiments/1                    \n",
      "\n",
      "🏃 View run sassy-kit-641 at: http://127.0.0.1:5000/#/experiments/1/runs/a82acf3a55714631b298f4403a42bb81\n",
      "\n",
      "🧪 View experiment at: http://127.0.0.1:5000/#/experiments/1                    \n",
      "\n",
      "🏃 View run suave-ant-698 at: http://127.0.0.1:5000/#/experiments/1/runs/a8e86fb92e4c4ba3861868b5797a1ce3\n",
      "\n",
      "🧪 View experiment at: http://127.0.0.1:5000/#/experiments/1                    \n",
      "\n",
      "🏃 View run luminous-frog-242 at: http://127.0.0.1:5000/#/experiments/1/runs/9cc8475537b248d8b1461388ab963be3\n",
      "\n",
      "🧪 View experiment at: http://127.0.0.1:5000/#/experiments/1                    \n",
      "\n",
      "🏃 View run treasured-fowl-832 at: http://127.0.0.1:5000/#/experiments/1/runs/6607b79887b349a2a1b663f1663d22f8\n",
      "\n",
      "🧪 View experiment at: http://127.0.0.1:5000/#/experiments/1                    \n",
      "\n",
      "🏃 View run charming-dove-860 at: http://127.0.0.1:5000/#/experiments/1/runs/012a51fa0e844d97be9a4f7e41f2b68e\n",
      "\n",
      "🧪 View experiment at: http://127.0.0.1:5000/#/experiments/1                    \n",
      "\n",
      "🏃 View run selective-crow-782 at: http://127.0.0.1:5000/#/experiments/1/runs/918f6ef367b741ffba5514b761f54027\n",
      "\n",
      "🧪 View experiment at: http://127.0.0.1:5000/#/experiments/1                    \n",
      "\n",
      "🏃 View run shivering-newt-714 at: http://127.0.0.1:5000/#/experiments/1/runs/8dafa0cecdcd42ca92a179f1c80df7d8\n",
      "\n",
      "🧪 View experiment at: http://127.0.0.1:5000/#/experiments/1                    \n",
      "\n",
      "🏃 View run lyrical-squirrel-719 at: http://127.0.0.1:5000/#/experiments/1/runs/5b6ccba24de247878697be85bf4e4074\n",
      "\n",
      "🧪 View experiment at: http://127.0.0.1:5000/#/experiments/1                    \n",
      "\n",
      "🏃 View run merciful-zebra-760 at: http://127.0.0.1:5000/#/experiments/1/runs/72c58865f60b4d60a870117ab6fc2394\n",
      "\n",
      "🧪 View experiment at: http://127.0.0.1:5000/#/experiments/1                    \n",
      "\n",
      "🏃 View run nosy-donkey-713 at: http://127.0.0.1:5000/#/experiments/1/runs/b81b3ed6b1e244bf9b807d87a2a73071\n",
      "\n",
      "🧪 View experiment at: http://127.0.0.1:5000/#/experiments/1                    \n",
      "\n",
      "🏃 View run carefree-shad-567 at: http://127.0.0.1:5000/#/experiments/1/runs/6f2b417bb41d4e098cc414fe90abbc5e\n",
      "\n",
      "🧪 View experiment at: http://127.0.0.1:5000/#/experiments/1                    \n",
      "\n",
      "🏃 View run rogue-colt-555 at: http://127.0.0.1:5000/#/experiments/1/runs/06df9d8cd13e4f6c873d41f95e4001c4\n",
      "\n",
      "🧪 View experiment at: http://127.0.0.1:5000/#/experiments/1                    \n",
      "\n",
      "100%|██████████| 15/15 [00:29<00:00,  1.95s/trial, best loss: 5.335419588556921]\n"
     ]
    }
   ],
   "source": [
    "!python hpo.py"
   ]
  },
  {
   "cell_type": "markdown",
   "metadata": {},
   "source": [
    "3. What's the best validation RMSE that you got?"
   ]
  },
  {
   "cell_type": "code",
   "execution_count": null,
   "metadata": {},
   "outputs": [],
   "source": [
    "# get tracking_uri from the script `hpo.py`\n",
    "from mlflow.tracking import MlflowClient\n",
    "\n",
    "client = MlflowClient(tracking_uri=\"http://127.0.0.1:5000\")"
   ]
  },
  {
   "cell_type": "code",
   "execution_count": 30,
   "metadata": {},
   "outputs": [
    {
     "data": {
      "text/plain": [
       "[<Experiment: artifact_location='/Users/nop/Documents/GitHub/mlops-zoomcamp-datatalks/02-experiment-tracking/artifacts/1', creation_time=1747854256919, experiment_id='1', last_update_time=1747854256919, lifecycle_stage='active', name='random-forest-hyperopt', tags={}>,\n",
       " <Experiment: artifact_location='/Users/nop/Documents/GitHub/mlops-zoomcamp-datatalks/02-experiment-tracking/artifacts/0', creation_time=1747853209465, experiment_id='0', last_update_time=1747853209465, lifecycle_stage='active', name='Default', tags={}>]"
      ]
     },
     "execution_count": 30,
     "metadata": {},
     "output_type": "execute_result"
    }
   ],
   "source": [
    "client.search_experiments()"
   ]
  },
  {
   "cell_type": "code",
   "execution_count": 32,
   "metadata": {},
   "outputs": [
    {
     "name": "stdout",
     "output_type": "stream",
     "text": [
      "run id: 5b6ccba24de247878697be85bf4e4074, RMSE: 5.3354\n",
      "run id: 9cc8475537b248d8b1461388ab963be3, RMSE: 5.3547\n",
      "run id: 06df9d8cd13e4f6c873d41f95e4001c4, RMSE: 5.3550\n"
     ]
    }
   ],
   "source": [
    "best_runs = client.search_runs(\n",
    "    experiment_ids=\"1\",\n",
    "    filter_string=\"\",\n",
    "    max_results=3,\n",
    "    order_by=[\"metrics.RMSE ASC\"]\n",
    ")\n",
    "\n",
    "for run in best_runs:\n",
    "    print(f\"run id: {run.info.run_id}, RMSE: {run.data.metrics['RMSE']:.4f}\")"
   ]
  },
  {
   "cell_type": "markdown",
   "metadata": {},
   "source": [
    "Answer: The best validation RMSE is **5.3354**"
   ]
  },
  {
   "cell_type": "markdown",
   "metadata": {},
   "source": [
    "## Q6. Promote the best model to the model registry"
   ]
  },
  {
   "cell_type": "markdown",
   "metadata": {},
   "source": [
    "1. Update the script `register_model.py` so that it selects the model with the lowest RMSE on the test set and registers it to the model registry"
   ]
  },
  {
   "cell_type": "code",
   "execution_count": null,
   "metadata": {},
   "outputs": [],
   "source": [
    "!cat register_model.py"
   ]
  },
  {
   "cell_type": "code",
   "execution_count": 34,
   "metadata": {},
   "outputs": [
    {
     "name": "stdout",
     "output_type": "stream",
     "text": [
      "2025/05/22 02:25:50 INFO mlflow.tracking.fluent: Experiment with name 'random-forest-best-models' does not exist. Creating a new experiment.\n",
      "🏃 View run gentle-ram-760 at: http://127.0.0.1:5000/#/experiments/2/runs/5cc2569493b6487ca82f19939f01e666\n",
      "🧪 View experiment at: http://127.0.0.1:5000/#/experiments/2\n",
      "🏃 View run painted-dolphin-737 at: http://127.0.0.1:5000/#/experiments/2/runs/53627af8150e4f7ca50590e2f296b19d\n",
      "🧪 View experiment at: http://127.0.0.1:5000/#/experiments/2\n",
      "🏃 View run amazing-mole-954 at: http://127.0.0.1:5000/#/experiments/2/runs/39e9f2d2ddad461da72008e8e478b04d\n",
      "🧪 View experiment at: http://127.0.0.1:5000/#/experiments/2\n",
      "🏃 View run unleashed-foal-52 at: http://127.0.0.1:5000/#/experiments/2/runs/4acd40c7b6e2499b8c70b56f6dae0c2d\n",
      "🧪 View experiment at: http://127.0.0.1:5000/#/experiments/2\n",
      "🏃 View run receptive-colt-729 at: http://127.0.0.1:5000/#/experiments/2/runs/69f7c5defb604107b4f95ea580342b97\n",
      "🧪 View experiment at: http://127.0.0.1:5000/#/experiments/2\n",
      "Successfully registered model 'green_taxi_2023_duration_regressor'.\n",
      "2025/05/22 02:26:33 INFO mlflow.store.model_registry.abstract_store: Waiting up to 300 seconds for model version to finish creation. Model name: green_taxi_2023_duration_regressor, version 1\n",
      "Created version '1' of model 'green_taxi_2023_duration_regressor'.\n"
     ]
    }
   ],
   "source": [
    "!python register_model.py"
   ]
  },
  {
   "cell_type": "markdown",
   "metadata": {},
   "source": [
    "2. What is the test RMSE of the best model?"
   ]
  },
  {
   "cell_type": "code",
   "execution_count": 35,
   "metadata": {},
   "outputs": [
    {
     "data": {
      "text/plain": [
       "5.567"
      ]
     },
     "execution_count": 35,
     "metadata": {},
     "output_type": "execute_result"
    }
   ],
   "source": [
    "run_reg_id = client.get_model_version(name=\"green_taxi_2023_duration_regressor\", version=\"1\").run_id\n",
    "run_reg_v1 = client.get_run(run_id=run_reg_id)\n",
    "\n",
    "round(run_reg_v1.data.metrics['test_rmse'], 3)"
   ]
  },
  {
   "cell_type": "markdown",
   "metadata": {},
   "source": [
    "Answer: Test RMSE of the best model is **5.567**"
   ]
  }
 ],
 "metadata": {
  "kernelspec": {
   "display_name": "env",
   "language": "python",
   "name": "python3"
  },
  "language_info": {
   "codemirror_mode": {
    "name": "ipython",
    "version": 3
   },
   "file_extension": ".py",
   "mimetype": "text/x-python",
   "name": "python",
   "nbconvert_exporter": "python",
   "pygments_lexer": "ipython3",
   "version": "3.12.6"
  },
  "orig_nbformat": 4
 },
 "nbformat": 4,
 "nbformat_minor": 2
}
