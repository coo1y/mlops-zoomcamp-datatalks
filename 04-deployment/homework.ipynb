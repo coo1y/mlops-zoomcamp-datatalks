{
 "cells": [
  {
   "cell_type": "code",
   "execution_count": 1,
   "id": "2c51efaa",
   "metadata": {},
   "outputs": [
    {
     "name": "stdout",
     "output_type": "stream",
     "text": [
      "scikit-learn==1.6.1\n"
     ]
    }
   ],
   "source": [
    "!pip freeze | grep scikit-learn"
   ]
  },
  {
   "cell_type": "code",
   "execution_count": 2,
   "id": "4acf73a0-51b5-4663-9bb8-8eb947863e17",
   "metadata": {},
   "outputs": [
    {
     "name": "stdout",
     "output_type": "stream",
     "text": [
      "Python 3.7.0\n"
     ]
    }
   ],
   "source": [
    "!python -V"
   ]
  },
  {
   "cell_type": "code",
   "execution_count": 3,
   "id": "0ef880a0",
   "metadata": {},
   "outputs": [],
   "source": [
    "import pickle\n",
    "import pandas as pd"
   ]
  },
  {
   "cell_type": "code",
   "execution_count": 4,
   "id": "7836ccfd",
   "metadata": {},
   "outputs": [
    {
     "name": "stderr",
     "output_type": "stream",
     "text": [
      "/Library/Frameworks/Python.framework/Versions/3.11/lib/python3.11/site-packages/sklearn/base.py:380: InconsistentVersionWarning: Trying to unpickle estimator DictVectorizer from version 1.5.0 when using version 1.6.1. This might lead to breaking code or invalid results. Use at your own risk. For more info please refer to:\n",
      "https://scikit-learn.org/stable/model_persistence.html#security-maintainability-limitations\n",
      "  warnings.warn(\n",
      "/Library/Frameworks/Python.framework/Versions/3.11/lib/python3.11/site-packages/sklearn/base.py:380: InconsistentVersionWarning: Trying to unpickle estimator LinearRegression from version 1.5.0 when using version 1.6.1. This might lead to breaking code or invalid results. Use at your own risk. For more info please refer to:\n",
      "https://scikit-learn.org/stable/model_persistence.html#security-maintainability-limitations\n",
      "  warnings.warn(\n"
     ]
    }
   ],
   "source": [
    "with open('model.bin', 'rb') as f_in:\n",
    "    dv, model = pickle.load(f_in)"
   ]
  },
  {
   "cell_type": "code",
   "execution_count": 5,
   "id": "41c08294",
   "metadata": {},
   "outputs": [],
   "source": [
    "categorical = ['PULocationID', 'DOLocationID']\n",
    "\n",
    "def read_data(filename):\n",
    "    df = pd.read_parquet(filename)\n",
    "    \n",
    "    df['duration'] = df.tpep_dropoff_datetime - df.tpep_pickup_datetime\n",
    "    df['duration'] = df.duration.dt.total_seconds() / 60\n",
    "\n",
    "    df = df[(df.duration >= 1) & (df.duration <= 60)].copy()\n",
    "\n",
    "    df[categorical] = df[categorical].fillna(-1).astype('int').astype('str')\n",
    "    \n",
    "    return df"
   ]
  },
  {
   "cell_type": "markdown",
   "id": "2377b83f",
   "metadata": {},
   "source": [
    "Run this notebook for the March 2023 data."
   ]
  },
  {
   "cell_type": "code",
   "execution_count": 10,
   "id": "f741ae7c",
   "metadata": {},
   "outputs": [],
   "source": [
    "year = 2023\n",
    "month = 3"
   ]
  },
  {
   "cell_type": "code",
   "execution_count": null,
   "id": "4854399a",
   "metadata": {},
   "outputs": [],
   "source": [
    "df = read_data(f'https://d37ci6vzurychx.cloudfront.net/trip-data/yellow_tripdata_{year:04d}-{month:02d}.parquet')"
   ]
  },
  {
   "cell_type": "code",
   "execution_count": 8,
   "id": "669fda0a",
   "metadata": {},
   "outputs": [],
   "source": [
    "dicts = df[categorical].to_dict(orient='records')\n",
    "X_val = dv.transform(dicts)\n",
    "y_pred = model.predict(X_val)"
   ]
  },
  {
   "cell_type": "markdown",
   "id": "beb4f693",
   "metadata": {},
   "source": [
    "# Q1. Notebook\n",
    "\n",
    "What's the standard deviation of the predicted duration for this dataset?"
   ]
  },
  {
   "cell_type": "code",
   "execution_count": 9,
   "id": "e567a4cc",
   "metadata": {},
   "outputs": [
    {
     "data": {
      "text/plain": [
       "6.247488852238703"
      ]
     },
     "execution_count": 9,
     "metadata": {},
     "output_type": "execute_result"
    }
   ],
   "source": [
    "y_pred.std()"
   ]
  },
  {
   "cell_type": "markdown",
   "id": "ca89a400",
   "metadata": {},
   "source": [
    "**Ans:** 6.25"
   ]
  },
  {
   "cell_type": "markdown",
   "id": "ce6e0eb0",
   "metadata": {},
   "source": [
    "# Q2. Preparing the output"
   ]
  },
  {
   "cell_type": "markdown",
   "id": "9a3442f5",
   "metadata": {},
   "source": [
    "First, let's create an artificial `ride_id` column:"
   ]
  },
  {
   "cell_type": "code",
   "execution_count": 12,
   "id": "bf532ae7-1897-428c-ba0c-875ccaf7d76c",
   "metadata": {},
   "outputs": [],
   "source": [
    "df['ride_id'] = f'{year:04d}/{month:02d}_' + df.index.astype('str')"
   ]
  },
  {
   "cell_type": "markdown",
   "id": "691d67fd",
   "metadata": {},
   "source": [
    "Next, write the ride id and the predictions to a dataframe with results."
   ]
  },
  {
   "cell_type": "code",
   "execution_count": 13,
   "id": "ffbdf5a1",
   "metadata": {},
   "outputs": [],
   "source": [
    "df_result = pd.DataFrame()\n",
    "df_result['ride_id'] = df['ride_id']\n",
    "df_result['predicted_duration'] = y_pred"
   ]
  },
  {
   "cell_type": "markdown",
   "id": "aea12492",
   "metadata": {},
   "source": [
    "Save it as parquet:"
   ]
  },
  {
   "cell_type": "code",
   "execution_count": 14,
   "id": "eedf69df",
   "metadata": {},
   "outputs": [],
   "source": [
    "!mkdir output_file"
   ]
  },
  {
   "cell_type": "code",
   "execution_count": 15,
   "id": "39ffcf78",
   "metadata": {},
   "outputs": [],
   "source": [
    "output_file = f'output_file/result_yellow_tripdata_{year:04d}-{month:02d}.parquet'"
   ]
  },
  {
   "cell_type": "code",
   "execution_count": 16,
   "id": "d2310d61",
   "metadata": {},
   "outputs": [],
   "source": [
    "df_result.to_parquet(\n",
    "    output_file,\n",
    "    engine='pyarrow',\n",
    "    compression=None,\n",
    "    index=False\n",
    ")"
   ]
  },
  {
   "cell_type": "markdown",
   "id": "9bdb499d",
   "metadata": {},
   "source": [
    "What's the size of the output file?"
   ]
  },
  {
   "cell_type": "code",
   "execution_count": 18,
   "id": "f67a0f51",
   "metadata": {},
   "outputs": [
    {
     "name": "stdout",
     "output_type": "stream",
     "text": [
      "total 134072\n",
      "-rw-r--r--  1 nop  staff    65M Jun 13 00:05 result_yellow_tripdata_2023-03.parquet\n"
     ]
    }
   ],
   "source": [
    "!ls -lh output_file"
   ]
  },
  {
   "cell_type": "markdown",
   "id": "a0a65aa7",
   "metadata": {},
   "source": [
    "**Ans:** 65M"
   ]
  },
  {
   "cell_type": "markdown",
   "id": "aab8fae4",
   "metadata": {},
   "source": [
    "# Q3. Creating the scoring script\n",
    "\n",
    "Now let's turn the notebook into a script.\n",
    "\n",
    "Which command you need to execute for that?"
   ]
  },
  {
   "cell_type": "code",
   "execution_count": null,
   "id": "028be601",
   "metadata": {},
   "outputs": [],
   "source": [
    "!jupyter nbconvert --to script homework.ipynb"
   ]
  },
  {
   "cell_type": "markdown",
   "id": "0838db3e",
   "metadata": {},
   "source": [
    "# Q4. Virtual environment\n",
    "\n",
    "Now let's put everything into a virtual environment. We'll use pipenv for that.\n",
    "\n",
    "Install all the required libraries. Pay attention to the Scikit-Learn version: it should be the same as in the starter notebook."
   ]
  },
  {
   "cell_type": "code",
   "execution_count": null,
   "id": "19f5909a",
   "metadata": {},
   "outputs": [],
   "source": [
    "!pip install --user pipenv"
   ]
  },
  {
   "cell_type": "code",
   "execution_count": null,
   "id": "a460c710",
   "metadata": {},
   "outputs": [],
   "source": [
    "!pipenv install -r requirements.txt"
   ]
  },
  {
   "cell_type": "markdown",
   "id": "f477a09a",
   "metadata": {},
   "source": [
    "The `Pipfile.lock` file keeps the hashes of the dependencies we use for the virtual env.\n",
    "\n",
    "What's the first hash for the Scikit-Learn dependency?"
   ]
  },
  {
   "cell_type": "code",
   "execution_count": 27,
   "id": "ecef704a",
   "metadata": {},
   "outputs": [
    {
     "data": {
      "text/plain": [
       "'sha256:057b991ac64b3e75c9c04b5f9395eaf19a6179244c089afdebaad98264bff37c'"
      ]
     },
     "execution_count": 27,
     "metadata": {},
     "output_type": "execute_result"
    }
   ],
   "source": [
    "import json\n",
    "\n",
    "with open(\"Pipfile.lock\", \"r\") as f:\n",
    "    pipfile = json.load(f)\n",
    "\n",
    "pipfile[\"default\"][\"scikit-learn\"][\"hashes\"][0]"
   ]
  },
  {
   "cell_type": "markdown",
   "id": "cea57cd8",
   "metadata": {},
   "source": [
    "**Ans:** sha256:057b991ac64b3e75c9c04b5f9395eaf19a6179244c089afdebaad98264bff37c"
   ]
  },
  {
   "cell_type": "markdown",
   "id": "bd9af187",
   "metadata": {},
   "source": [
    "# Q5. Parametrize the script\n",
    "\n",
    "Let's now make the script configurable via CLI. We'll create two parameters: year and month.\n",
    "\n",
    "Run the script for April 2023.\n",
    "\n",
    "What's the mean predicted duration?"
   ]
  },
  {
   "cell_type": "code",
   "execution_count": null,
   "id": "cef6bd2a",
   "metadata": {},
   "outputs": [],
   "source": [
    "!pipenv run python solution.py 2023 4"
   ]
  },
  {
   "cell_type": "markdown",
   "id": "751184b0",
   "metadata": {},
   "source": [
    "**Ans:** 14.29"
   ]
  },
  {
   "cell_type": "markdown",
   "id": "e147a69e",
   "metadata": {},
   "source": [
    "# Q6. Docker container"
   ]
  },
  {
   "cell_type": "markdown",
   "id": "2c064cb2",
   "metadata": {},
   "source": [
    "Now run the script with docker."
   ]
  },
  {
   "cell_type": "code",
   "execution_count": null,
   "id": "14fc43ab",
   "metadata": {},
   "outputs": [],
   "source": [
    "!docker build -t yellow-taxi-trip-record:v1 -f homework.dockerfile ."
   ]
  },
  {
   "cell_type": "code",
   "execution_count": null,
   "id": "6638109e",
   "metadata": {},
   "outputs": [],
   "source": [
    "!docker run --rm yellow-taxi-trip-record:v1 2023 5"
   ]
  },
  {
   "cell_type": "markdown",
   "id": "54552c19",
   "metadata": {},
   "source": [
    "**Ans:** 14.24"
   ]
  }
 ],
 "metadata": {
  "kernelspec": {
   "display_name": "Python 3",
   "language": "python",
   "name": "python3"
  },
  "language_info": {
   "codemirror_mode": {
    "name": "ipython",
    "version": 3
   },
   "file_extension": ".py",
   "mimetype": "text/x-python",
   "name": "python",
   "nbconvert_exporter": "python",
   "pygments_lexer": "ipython3",
   "version": "3.11.0rc2"
  }
 },
 "nbformat": 4,
 "nbformat_minor": 5
}
